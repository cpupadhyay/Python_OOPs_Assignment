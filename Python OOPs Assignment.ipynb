{
 "cells": [
  {
   "cell_type": "markdown",
   "id": "e1c903cb-05b7-45d9-bd78-619deb2e1a9e",
   "metadata": {},
   "source": [
    "# Python OOPs Assignment Theoritical"
   ]
  },
  {
   "cell_type": "code",
   "execution_count": null,
   "id": "7a5da8bc-ed76-45b9-9a84-99f7f17cc4a6",
   "metadata": {},
   "outputs": [],
   "source": [
    "1. What is Object-Oriented Programming (OOP)?\n",
    "   ->Object-Oriented Programming (OOP) is a programming paradigm that organizes software design around objects rather than functions and logic. An object is a data structure that contains both data (fields) and functions (methods) that operate on the data."
   ]
  },
  {
   "cell_type": "code",
   "execution_count": null,
   "id": "662fb0cc-4975-4b4a-8041-e1b7650782d6",
   "metadata": {},
   "outputs": [],
   "source": [
    "2. What is a class in OOP?\n",
    "   -> A class is a blueprint or template for creating objects. It defines the properties and behaviors that the created objects will have."
   ]
  },
  {
   "cell_type": "code",
   "execution_count": null,
   "id": "8cad8459-882a-456f-8293-c3b3746c498e",
   "metadata": {},
   "outputs": [],
   "source": [
    "3. What is an object in OOP? \n",
    "   -> An object is an instance of a class. It represents a real-world entity that has state (data) and behavior (methods)."
   ]
  },
  {
   "cell_type": "code",
   "execution_count": null,
   "id": "5037a734-0480-4a71-8d6a-2669282df221",
   "metadata": {},
   "outputs": [],
   "source": [
    "4.  What is the difference between abstraction and encapsulation?\n",
    "    ->(a) Abstraction:\n",
    "          Definition: Abstraction means hiding unnecessary details and showing only the important features of an object.\n",
    "          Purpose: To focus on what an object does, instead of how it does it.\n",
    "          Example: When you drive a car, you only need to know how to use the steering, brakes, and accelerator—not how the engine works internally.\n",
    "    \n",
    "      (b) Encapsulation: \n",
    "          Definition: Encapsulation means binding data and the methods that operate on that data into a single unit (class), and restricting direct access to some components.\n",
    "          Purpose: To protect data from unauthorized access and hide the internal state of the object.\n",
    "          Example: The car’s speed can be stored privately, and only accessed through specific functions like get_speed() or set_speed()."
   ]
  },
  {
   "cell_type": "code",
   "execution_count": null,
   "id": "59cfa6e2-59cc-46d3-8d12-a2396eb3471d",
   "metadata": {},
   "outputs": [],
   "source": [
    "5. What are dunder methods in Python?\n",
    "   -> Dunder methods (also called magic methods or special methods) in Python are special methods that begin and end with double underscores (i.e., \"dunder\" stands for \"double underscore\").\n",
    "      They are used to define the behavior of objects with built-in Python operations, like addition, printing, comparison, and more."
   ]
  },
  {
   "cell_type": "code",
   "execution_count": null,
   "id": "1423c760-bfc0-4b8b-95b7-2a4d05be6569",
   "metadata": {},
   "outputs": [],
   "source": [
    "6. Explain the concept of inheritance in OOP.\n",
    "   -> Inheritance is a core concept in object-oriented programming (OOP) that allows one class (called the child class or subclass) to inherit properties and behaviors (attributes and methods) from another class (called the parent class or superclass)."
   ]
  },
  {
   "cell_type": "code",
   "execution_count": null,
   "id": "158e29bf-4f25-407d-98bc-e9fc20d48d62",
   "metadata": {},
   "outputs": [],
   "source": [
    "7. What is polymorphism in OOP?\n",
    "   -> Polymorphism is a fundamental concept in OOP that means \"many forms\". It allows one interface (function or method) to behave differently based on the object that is calling or using it."
   ]
  },
  {
   "cell_type": "code",
   "execution_count": null,
   "id": "88dc3e7b-d91a-4ab3-b545-98e99a1c6f05",
   "metadata": {},
   "outputs": [],
   "source": [
    "8. How is encapsulation achieved in Python?\n",
    "   -> Encapsulation in Python is achieved by restricting direct access to some of an object’s components (i.e., its data/variables), and allowing controlled access through methods. This protects the internal state of the object and ensures data security and modularity."
   ]
  },
  {
   "cell_type": "code",
   "execution_count": null,
   "id": "103e47b8-6bb6-49fd-bac9-c537b873dbd7",
   "metadata": {},
   "outputs": [],
   "source": [
    "9. What is a Constructor in Python?\n",
    "   -> A constructor in Python is a special method that is automatically called when an object is created from a class. Its main purpose is to initialize the object's attributes (data members)."
   ]
  },
  {
   "cell_type": "code",
   "execution_count": null,
   "id": "60481dc0-53a0-464e-a6f3-4f66333b20ab",
   "metadata": {},
   "outputs": [],
   "source": [
    "10. What are class and static methods in Python?\n",
    "    -> 1. Class Method: \n",
    "          (a)A class method is a method that is bound to the class, not the instance (object).\n",
    "          (b)It has access to the class itself and can modify class-level data (shared among all objects).\n",
    "          (c)It uses the @classmethod decorator.\n",
    "          (d)The first parameter is always cls (refers to the class, like self refers to the object).\n",
    "\n",
    "       2. Static Method:\n",
    "          (a)A static method is a method that does not depend on class or instance variables.\n",
    "          (b)It behaves like a regular function, but it is placed inside a class for logical grouping.\n",
    "          (c)It uses the @staticmethod decorator.\n",
    "          (d)It does not take self or cls as the first argument."
   ]
  },
  {
   "cell_type": "code",
   "execution_count": null,
   "id": "6ebd84b4-b335-42cb-8865-29b9c73a657c",
   "metadata": {},
   "outputs": [],
   "source": [
    "11. What is method overloading in Python?\n",
    "    -> Method Overloading refers to the concept where multiple methods in the same class have the same name but different parameters (i.e., different number or type of arguments). It allows a method to perform different tasks based on the arguments passed."
   ]
  },
  {
   "cell_type": "code",
   "execution_count": null,
   "id": "ff0f6c15-280a-4bbf-bf45-a25bff14ce0c",
   "metadata": {},
   "outputs": [],
   "source": [
    "12. What is method overriding in OOP?\n",
    "    -> Method Overriding is a feature in OOP that allows a child class (subclass) to provide its own specific implementation of a method that is already defined in its parent class (superclass)."
   ]
  },
  {
   "cell_type": "code",
   "execution_count": null,
   "id": "343b556a-de9b-4ead-8349-cd2566cac0ee",
   "metadata": {},
   "outputs": [],
   "source": [
    "13. What is a property decorator in Python?\n",
    "    -> The @property decorator in Python is used to turn a method into a \"read-only\" attribute. It allows you to access methods like attributes without using parentheses ()."
   ]
  },
  {
   "cell_type": "code",
   "execution_count": null,
   "id": "4eebcb15-be00-41ad-a04d-3e49ecc7930b",
   "metadata": {},
   "outputs": [],
   "source": [
    "14. Why is polymorphism important in OOP?\n",
    "    -> Polymorphism is important in OOP because it allows objects of different classes to be treated as objects of a common superclass, while still behaving in their own unique way. It supports flexibility, extensibility, and reusability in object-oriented design."
   ]
  },
  {
   "cell_type": "code",
   "execution_count": null,
   "id": "5a4d077a-e64f-49e0-9d23-e826ef9428e9",
   "metadata": {},
   "outputs": [],
   "source": [
    "15. What is an abstract class in Python?\n",
    "    -> An abstract class in Python is a blueprint for other classes. It is a class that cannot be instantiated directly and is meant to be inherited by subclasses. It may contain one or more abstract methods, which are methods declared but not implemented in the abstract class."
   ]
  },
  {
   "cell_type": "code",
   "execution_count": null,
   "id": "3436a4c6-0ba8-4e96-99a1-de709d9d5bd3",
   "metadata": {},
   "outputs": [],
   "source": [
    "16. What are the advantages of OOP?\n",
    "    -> Object-Oriented Programming (OOP) is a programming paradigm based on the concept of \"objects\", which contain data (attributes) and methods (functions). It offers several benefits that make software development more efficient and organized."
   ]
  },
  {
   "cell_type": "code",
   "execution_count": null,
   "id": "b764e645-60ed-4fd4-acef-6c5b4eb8a59b",
   "metadata": {},
   "outputs": [],
   "source": [
    "17. What is the difference between a class variable and an instance variable?\n",
    "    -> 1. Class Variable: \n",
    "          (a)A class variable is shared by all objects (instances) of the class.\n",
    "          (b)It is defined inside the class, but outside any instance methods.\n",
    "          (c)All instances access the same copy of the variable.\n",
    "          (d)Changing the class variable affects all objects, unless overridden.\n",
    "      \n",
    "       2. Instance Variable:\n",
    "          (a)An instance variable is unique to each object.\n",
    "          (b)It is defined inside a method, typically the constructor (__init__), using self.\n",
    "          (c)Each object maintains its own copy of the variable.\n",
    "          (d)Changing the instance variable of one object does not affect others."
   ]
  },
  {
   "cell_type": "code",
   "execution_count": null,
   "id": "8a608740-ad21-4a03-ac2d-404ac4335cde",
   "metadata": {},
   "outputs": [],
   "source": [
    "18. What is multiple inheritance in Python?\n",
    "    -> Multiple Inheritance is a feature in Python where a class can inherit from more than one parent class. This means the child class has access to the attributes and methods of multiple base classes."
   ]
  },
  {
   "cell_type": "code",
   "execution_count": null,
   "id": "3202be27-c5d9-440e-9c0a-e5f9ca711b72",
   "metadata": {},
   "outputs": [],
   "source": [
    "19. Explain the purpose of ‘’__str__’ and ‘__repr__’ ‘ methods in Python.\n",
    "    -> 1. __str__ Method:\n",
    "       (a)Used to define the \"informal\" or user-friendly string representation of an object.\n",
    "       (b)Called when you use the print() function or str() on an object.\n",
    "       (c)The output is meant to be readable and descriptive for the end user.\n",
    "       Purpose: To provide a human-readable output of the object’s content.\n",
    "\n",
    "       2. __repr__ Method:\n",
    "       (a)Used to define the \"official\" or developer-friendly string representation of an object.\n",
    "       (b)Called by the repr() function or when an object is typed in the interactive shell.\n",
    "       (c)The output should ideally be a valid Python expression that could recreate the object."
   ]
  },
  {
   "cell_type": "code",
   "execution_count": null,
   "id": "3e4004ff-1685-46d6-8eb7-7e6a96398623",
   "metadata": {},
   "outputs": [],
   "source": [
    "20. What is the significance of the ‘super()’ function in Python?\n",
    "    -> The super() function in Python is used to call methods of a parent (super) class from a child (subclass). It is most commonly used in inheritance to access and reuse parent class functionality without explicitly naming the parent class."
   ]
  },
  {
   "cell_type": "code",
   "execution_count": null,
   "id": "4a9984d7-6519-401c-b963-2465b3ced92b",
   "metadata": {},
   "outputs": [],
   "source": [
    "21. What is the significance of the __del__ method in Python?\n",
    "    -> The __del__ method in Python is a special (dunder) method known as the destructor. It is called automatically when an object is about to be destroyed or deleted."
   ]
  },
  {
   "cell_type": "code",
   "execution_count": null,
   "id": "d0202887-dd57-45f9-b20d-9e3663cd5809",
   "metadata": {},
   "outputs": [],
   "source": [
    "22. What is the difference between @staticmethod and @classmethod in Python?\n",
    "    -> In python both @staticmethod and @classmethod are decorators used to define methods inside a class that are not regular instance methods. However, they differ in how they interact with the class and its instances."
   ]
  },
  {
   "cell_type": "code",
   "execution_count": null,
   "id": "64b3c90c-b5f3-4a65-9190-6d835e0a9671",
   "metadata": {},
   "outputs": [],
   "source": [
    "23. How does polymorphism work in Python with inheritance?\n",
    "    -> Polymorphism in Python refers to the ability of different classes to respond to the same method or function call in different ways. When used with inheritance, polymorphism allows subclasses to provide specific implementations of methods that are defined in the parent class."
   ]
  },
  {
   "cell_type": "code",
   "execution_count": null,
   "id": "f226e749-6afe-4e43-ac1f-c2bbdf79023b",
   "metadata": {},
   "outputs": [],
   "source": [
    "24. What is method chaining in Python OOP?\n",
    "    -> Method Chaining is a programming technique in Object-Oriented Programming (OOP) where multiple methods are called sequentially on the same object in a single line of code.\n",
    "       Each method returns the object itself, allowing the next method to be called immediately."
   ]
  },
  {
   "cell_type": "code",
   "execution_count": null,
   "id": "fad19ddf-b779-43ec-b8c6-9b870dd8e09d",
   "metadata": {},
   "outputs": [],
   "source": [
    "25. What is the purpose of the __call__ method in Python?\n",
    "    -> The __call__ method in Python is a special method (also known as a dunder method) that allows an object of a class to be called like a function."
   ]
  },
  {
   "cell_type": "markdown",
   "id": "d5a3e322-c963-496d-b2e7-131cefcc7ee5",
   "metadata": {},
   "source": [
    "# Python OOPs Assignment Practical Questions"
   ]
  },
  {
   "cell_type": "code",
   "execution_count": 10,
   "id": "6793cdc1-0c4a-43d5-9728-3073cacb31d6",
   "metadata": {},
   "outputs": [
    {
     "name": "stdout",
     "output_type": "stream",
     "text": [
      "Bark!\n"
     ]
    }
   ],
   "source": [
    "'''1. Create a parent class Animal with a method speak() that prints a generic message. Create a child class Dog\n",
    "that overrides the speak() method to print \"Bark!\".'''\n",
    "# Code\n",
    "class Animal:\n",
    "    def speak(self):\n",
    "        print(\"The animal makes a sound.\")\n",
    "\n",
    "class Dog(Animal):\n",
    "    def speak(self):\n",
    "        print(\"Bark!\")\n",
    "\n",
    "Obj1 = Dog()\n",
    "Obj1.speak()\n"
   ]
  },
  {
   "cell_type": "code",
   "execution_count": 11,
   "id": "eed5d823-4251-44b9-bca9-d188e68bc1d9",
   "metadata": {},
   "outputs": [
    {
     "name": "stdout",
     "output_type": "stream",
     "text": [
      "Area of Circle: 78.53981633974483\n",
      "Area of Rectangle: 24\n"
     ]
    }
   ],
   "source": [
    "'''2.  Write a program to create an abstract class Shape with a method area(). Derive classes Circle and Rectangle\n",
    "from it and implement the area() method in both.'''\n",
    "# Code\n",
    "from abc import ABC, abstractmethod\n",
    "import math\n",
    "\n",
    "# Abstract Class\n",
    "class Shape(ABC):\n",
    "    @abstractmethod\n",
    "    def area(self):\n",
    "        pass\n",
    "\n",
    "# Circle Class\n",
    "class Circle(Shape):\n",
    "    def __init__(self, radius):\n",
    "        self.radius = radius\n",
    "\n",
    "    def area(self):\n",
    "        return math.pi * self.radius * self.radius\n",
    "\n",
    "# Rectangle Class\n",
    "class Rectangle(Shape):\n",
    "    def __init__(self, length, width):\n",
    "        self.length = length\n",
    "        self.width = width\n",
    "\n",
    "    def area(self):\n",
    "        return self.length * self.width\n",
    "\n",
    "# Create objects\n",
    "circle = Circle(5)\n",
    "rectangle = Rectangle(4, 6)\n",
    "\n",
    "# Print area\n",
    "print(\"Area of Circle:\", circle.area())\n",
    "print(\"Area of Rectangle:\", rectangle.area())\n"
   ]
  },
  {
   "cell_type": "code",
   "execution_count": 13,
   "id": "2933a7f0-c970-453c-a6ce-1614eab711a2",
   "metadata": {},
   "outputs": [
    {
     "name": "stdout",
     "output_type": "stream",
     "text": [
      "Vehicle Type: Electric\n",
      "Brand: Tesla\n",
      "Battery Capacity: 75 kWh\n"
     ]
    }
   ],
   "source": [
    "'''3. Implement a multi-level inheritance scenario where a class Vehicle has an attribute type. Derive a class Car\n",
    "and further derive a class ElectricCar that adds a battery attribute.'''\n",
    "# Code\n",
    "# Base Class\n",
    "class Vehicle:\n",
    "    def __init__(self, vehicle_type):\n",
    "        self.type = vehicle_type\n",
    "\n",
    "# Derived Class\n",
    "class Car(Vehicle):\n",
    "    def __init__(self, vehicle_type, brand):\n",
    "        super().__init__(vehicle_type)\n",
    "        self.brand = brand\n",
    "\n",
    "# Further Derived Class\n",
    "class ElectricCar(Car):\n",
    "    def __init__(self, vehicle_type, brand, battery_capacity):\n",
    "        super().__init__(vehicle_type, brand)\n",
    "        self.battery = battery_capacity\n",
    "\n",
    "    def display_info(self):\n",
    "        print(\"Vehicle Type:\", self.type)\n",
    "        print(\"Brand:\", self.brand)\n",
    "        print(\"Battery Capacity:\", self.battery, \"kWh\")\n",
    "\n",
    "# Create object of ElectricCar\n",
    "e_car = ElectricCar(\"Electric\", \"Tesla\", 75)\n",
    "\n",
    "# Display information\n",
    "e_car.display_info()\n",
    "\n"
   ]
  },
  {
   "cell_type": "code",
   "execution_count": 14,
   "id": "c1b4d231-9a6d-4d8d-8e43-2a827916d2af",
   "metadata": {},
   "outputs": [
    {
     "name": "stdout",
     "output_type": "stream",
     "text": [
      "Sparrow flies high in the sky.\n",
      "Penguin cannot fly but can swim.\n"
     ]
    }
   ],
   "source": [
    "'''4. Demonstrate polymorphism by creating a base class Bird with a method fly(). Create two derived classes\n",
    "Sparrow and Penguin that override the fly() method.'''\n",
    "# Code\n",
    "# Base Class\n",
    "class Bird:\n",
    "    def fly(self):\n",
    "        print(\"Some birds can fly.\")\n",
    "\n",
    "# Derived Class\n",
    "class Sparrow(Bird):\n",
    "    def fly(self):\n",
    "        print(\"Sparrow flies high in the sky.\")\n",
    "\n",
    "# Derived Class\n",
    "class Penguin(Bird):\n",
    "    def fly(self):\n",
    "        print(\"Penguin cannot fly but can swim.\")\n",
    "\n",
    "# List of Bird objects\n",
    "birds = [Sparrow(), Penguin()]\n",
    "\n",
    "# Demonstrate polymorphism\n",
    "for bird in birds:\n",
    "    bird.fly()\n"
   ]
  },
  {
   "cell_type": "code",
   "execution_count": 15,
   "id": "a0f862d9-26a8-454d-a6fb-3ee676923fda",
   "metadata": {},
   "outputs": [
    {
     "name": "stdout",
     "output_type": "stream",
     "text": [
      "Current Balance: ₹1000\n",
      "Deposited: ₹500\n",
      "Withdrawn: ₹200\n",
      "Current Balance: ₹1300\n"
     ]
    }
   ],
   "source": [
    "'''5. Write a program to demonstrate encapsulation by creating a class BankAccount with private attributes\n",
    "balance and methods to deposit, withdraw, and check balance.'''\n",
    "# Code\n",
    "class BankAccount:\n",
    "    def __init__(self, initial_balance):\n",
    "        self.__balance = initial_balance  # Private attribute\n",
    "\n",
    "    def deposit(self, amount):\n",
    "        if amount > 0:\n",
    "            self.__balance += amount\n",
    "            print(f\"Deposited: ₹{amount}\")\n",
    "        else:\n",
    "            print(\"Invalid deposit amount.\")\n",
    "\n",
    "    def withdraw(self, amount):\n",
    "        if 0 < amount <= self.__balance:\n",
    "            self.__balance -= amount\n",
    "            print(f\"Withdrawn: ₹{amount}\")\n",
    "        else:\n",
    "            print(\"Insufficient balance or invalid amount.\")\n",
    "\n",
    "    def check_balance(self):\n",
    "        print(f\"Current Balance: ₹{self.__balance}\")\n",
    "\n",
    "# Create an object\n",
    "account = BankAccount(1000)\n",
    "\n",
    "# Perform operations\n",
    "account.check_balance()\n",
    "account.deposit(500)\n",
    "account.withdraw(200)\n",
    "account.check_balance()\n"
   ]
  },
  {
   "cell_type": "code",
   "execution_count": 16,
   "id": "73535ecf-1ae5-42bb-b7f9-f812eea90dd9",
   "metadata": {},
   "outputs": [
    {
     "name": "stdout",
     "output_type": "stream",
     "text": [
      "Guitar is strumming.\n",
      "Piano is playing melody.\n"
     ]
    }
   ],
   "source": [
    "'''6. Demonstrate runtime polymorphism using a method play() in a base class Instrument. Derive classes Guitar\n",
    "and Piano that implement their own version of play().'''\n",
    "#Code\n",
    "# Base Class\n",
    "class Instrument:\n",
    "    def play(self):\n",
    "        print(\"Instrument is playing.\")\n",
    "\n",
    "# Derived Class\n",
    "class Guitar(Instrument):\n",
    "    def play(self):\n",
    "        print(\"Guitar is strumming.\")\n",
    "\n",
    "# Derived Class\n",
    "class Piano(Instrument):\n",
    "    def play(self):\n",
    "        print(\"Piano is playing melody.\")\n",
    "\n",
    "# Create a list of Instrument references\n",
    "instruments = [Guitar(), Piano()]\n",
    "\n",
    "# Demonstrate Runtime Polymorphism\n",
    "for instrument in instruments:\n",
    "    instrument.play()\n"
   ]
  },
  {
   "cell_type": "code",
   "execution_count": 17,
   "id": "c50c2951-3131-4135-9a08-668cfaae720a",
   "metadata": {},
   "outputs": [
    {
     "name": "stdout",
     "output_type": "stream",
     "text": [
      "Sum: 15\n",
      "Difference: 5\n"
     ]
    }
   ],
   "source": [
    "'''7. Create a class MathOperations with a class method add_numbers() to add two numbers and a static\n",
    "method subtract_numbers() to subtract two numbers.'''\n",
    "#Code\n",
    "class MathOperations:\n",
    "    \n",
    "    @classmethod\n",
    "    def add_numbers(cls, a, b):\n",
    "        return a + b\n",
    "\n",
    "    @staticmethod\n",
    "    def subtract_numbers(a, b):\n",
    "        return a - b\n",
    "\n",
    "# Using class method\n",
    "sum_result = MathOperations.add_numbers(10, 5)\n",
    "\n",
    "# Using static method\n",
    "difference_result = MathOperations.subtract_numbers(10, 5)\n",
    "\n",
    "# Print results\n",
    "print(\"Sum:\", sum_result)\n",
    "print(\"Difference:\", difference_result)\n"
   ]
  },
  {
   "cell_type": "code",
   "execution_count": 18,
   "id": "f5006c72-488b-4baf-936a-29aa19e29a30",
   "metadata": {},
   "outputs": [
    {
     "name": "stdout",
     "output_type": "stream",
     "text": [
      "Total Persons Created: 3\n"
     ]
    }
   ],
   "source": [
    "'''8. Implement a class Person with a class method to count the total number of persons created.'''\n",
    "#Code\n",
    "class Person:\n",
    "    count = 0  # Class variable to keep track of the number of persons\n",
    "\n",
    "    def __init__(self, name):\n",
    "        self.name = name\n",
    "        Person.count += 1  # Increment count when a new person is created\n",
    "\n",
    "    @classmethod\n",
    "    def total_persons(cls):\n",
    "        return cls.count\n",
    "\n",
    "# Create person objects\n",
    "p1 = Person(\"Alice\")\n",
    "p2 = Person(\"Bob\")\n",
    "p3 = Person(\"Charlie\")\n",
    "\n",
    "# Display total number of persons\n",
    "print(\"Total Persons Created:\", Person.total_persons())\n",
    "\n"
   ]
  },
  {
   "cell_type": "code",
   "execution_count": 19,
   "id": "e7570459-c83b-4118-a428-bec69c438882",
   "metadata": {},
   "outputs": [
    {
     "name": "stdout",
     "output_type": "stream",
     "text": [
      "3/4\n",
      "5/8\n"
     ]
    }
   ],
   "source": [
    "'''9. Write a class Fraction with attributes numerator and denominator. Override the str method to display the\n",
    "fraction as \"numerator/denominator\".'''\n",
    "#Code\n",
    "class Fraction:\n",
    "    def __init__(self, numerator, denominator):\n",
    "        self.numerator = numerator\n",
    "        self.denominator = denominator\n",
    "\n",
    "    def __str__(self):\n",
    "        return f\"{self.numerator}/{self.denominator}\"\n",
    "\n",
    "# Create Fraction objects\n",
    "f1 = Fraction(3, 4)\n",
    "f2 = Fraction(5, 8)\n",
    "\n",
    "# Display fractions\n",
    "print(f1)\n",
    "print(f2)\n"
   ]
  },
  {
   "cell_type": "code",
   "execution_count": 20,
   "id": "185d0a82-2489-4af5-b059-a6b876fc4deb",
   "metadata": {},
   "outputs": [
    {
     "name": "stdout",
     "output_type": "stream",
     "text": [
      "Vector(6, 8)\n"
     ]
    }
   ],
   "source": [
    "'''10. Demonstrate operator overloading by creating a class Vector and overriding the add method to add two\n",
    "vectors.'''\n",
    "#Code\n",
    "class Vector:\n",
    "    def __init__(self, x, y):\n",
    "        self.x = x\n",
    "        self.y = y\n",
    "\n",
    "    def __add__(self, other):\n",
    "        return Vector(self.x + other.x, self.y + other.y)\n",
    "\n",
    "    def __str__(self):\n",
    "        return f\"Vector({self.x}, {self.y})\"\n",
    "\n",
    "# Create vector objects\n",
    "v1 = Vector(2, 3)\n",
    "v2 = Vector(4, 5)\n",
    "\n",
    "# Add vectors using overloaded '+' operator\n",
    "v3 = v1 + v2\n",
    "\n",
    "# Display result\n",
    "print(v3)\n"
   ]
  },
  {
   "cell_type": "code",
   "execution_count": 21,
   "id": "daa70c09-f18c-4ed8-91ab-8204976d95e7",
   "metadata": {},
   "outputs": [
    {
     "name": "stdout",
     "output_type": "stream",
     "text": [
      "Hello, my name is Rahul and I am 25 years old.\n"
     ]
    }
   ],
   "source": [
    "'''11. Create a class Person with attributes name and age. Add a method greet() that prints \"Hello, my name is\n",
    "{name} and I am {age} years old.'''\n",
    "#Code\n",
    "class Person:\n",
    "    def __init__(self, name, age):\n",
    "        self.name = name\n",
    "        self.age = age\n",
    "\n",
    "    def greet(self):\n",
    "        print(f\"Hello, my name is {self.name} and I am {self.age} years old.\")\n",
    "\n",
    "# Create Person object\n",
    "p1 = Person(\"Rahul\", 25)\n",
    "\n",
    "# Call greet method\n",
    "p1.greet()\n"
   ]
  },
  {
   "cell_type": "code",
   "execution_count": 22,
   "id": "48503b1e-7a65-49de-ab99-7d2b23f7a07d",
   "metadata": {},
   "outputs": [
    {
     "name": "stdout",
     "output_type": "stream",
     "text": [
      "Average Grade: 86.25\n"
     ]
    }
   ],
   "source": [
    "'''12. Implement a class Student with attributes name and grades. Create a method average_grade() to compute\n",
    "the average of the grades.'''\n",
    "#Code\n",
    "class Student:\n",
    "    def __init__(self, name, grades):\n",
    "        self.name = name\n",
    "        self.grades = grades  # List of grades\n",
    "\n",
    "    def average_grade(self):\n",
    "        return sum(self.grades) / len(self.grades)\n",
    "\n",
    "# Create Student object\n",
    "s1 = Student(\"Anjali\", [85, 90, 78, 92])\n",
    "\n",
    "# Print average grade\n",
    "print(\"Average Grade:\", s1.average_grade())\n"
   ]
  },
  {
   "cell_type": "code",
   "execution_count": 23,
   "id": "c9fadd70-9a08-43c6-9169-c42efe1d88a4",
   "metadata": {},
   "outputs": [
    {
     "name": "stdout",
     "output_type": "stream",
     "text": [
      "Area of Rectangle: 50\n"
     ]
    }
   ],
   "source": [
    "'''13. Create a class Rectangle with methods set_dimensions() to set the dimensions and area() to calculate the\n",
    "area.'''\n",
    "#Code\n",
    "class Rectangle:\n",
    "    def __init__(self):\n",
    "        self.length = 0\n",
    "        self.width = 0\n",
    "\n",
    "    def set_dimensions(self, length, width):\n",
    "        self.length = length\n",
    "        self.width = width\n",
    "\n",
    "    def area(self):\n",
    "        return self.length * self.width\n",
    "\n",
    "# Create Rectangle object\n",
    "rect = Rectangle()\n",
    "\n",
    "# Set dimensions\n",
    "rect.set_dimensions(10, 5)\n",
    "\n",
    "# Calculate and print area\n",
    "print(\"Area of Rectangle:\", rect.area())\n"
   ]
  },
  {
   "cell_type": "code",
   "execution_count": 24,
   "id": "ac724c33-1ad6-4d86-840f-81d0760b6390",
   "metadata": {},
   "outputs": [
    {
     "name": "stdout",
     "output_type": "stream",
     "text": [
      "Employee Salary: 8000\n",
      "Manager Salary: 13000\n"
     ]
    }
   ],
   "source": [
    "'''14. Create a class Employee with a method calculate_salary() that computes the salary based on hours worked\n",
    "and hourly rate. Create a derived class Manager that adds a bonus to the salary.'''\n",
    "#Code\n",
    "# Base Class\n",
    "class Employee:\n",
    "    def __init__(self, name, hours_worked, hourly_rate):\n",
    "        self.name = name\n",
    "        self.hours_worked = hours_worked\n",
    "        self.hourly_rate = hourly_rate\n",
    "\n",
    "    def calculate_salary(self):\n",
    "        return self.hours_worked * self.hourly_rate\n",
    "\n",
    "# Derived Class\n",
    "class Manager(Employee):\n",
    "    def __init__(self, name, hours_worked, hourly_rate, bonus):\n",
    "        super().__init__(name, hours_worked, hourly_rate)\n",
    "        self.bonus = bonus\n",
    "\n",
    "    def calculate_salary(self):\n",
    "        base_salary = super().calculate_salary()\n",
    "        return base_salary + self.bonus\n",
    "\n",
    "# Create Employee object\n",
    "emp = Employee(\"Ravi\", 40, 200)\n",
    "print(\"Employee Salary:\", emp.calculate_salary())\n",
    "\n",
    "# Create Manager object\n",
    "mgr = Manager(\"Priya\", 40, 200, 5000)\n",
    "print(\"Manager Salary:\", mgr.calculate_salary())\n"
   ]
  },
  {
   "cell_type": "code",
   "execution_count": 25,
   "id": "d0fa27d8-7a45-4999-926f-ed3d84875923",
   "metadata": {},
   "outputs": [
    {
     "name": "stdout",
     "output_type": "stream",
     "text": [
      "Total Price: 100000\n"
     ]
    }
   ],
   "source": [
    "'''15. Create a class Product with attributes name, price, and quantity. Implement a method total_price() that\n",
    "calculates the total price of the product.'''\n",
    "#Code\n",
    "class Product:\n",
    "    def __init__(self, name, price, quantity):\n",
    "        self.name = name\n",
    "        self.price = price\n",
    "        self.quantity = quantity\n",
    "\n",
    "    def total_price(self):\n",
    "        return self.price * self.quantity\n",
    "\n",
    "# Create Product object\n",
    "p1 = Product(\"Laptop\", 50000, 2)\n",
    "\n",
    "# Calculate and print total price\n",
    "print(\"Total Price:\", p1.total_price())\n"
   ]
  },
  {
   "cell_type": "code",
   "execution_count": 26,
   "id": "4ece4c90-f4d3-4dc6-871d-638babf14606",
   "metadata": {},
   "outputs": [
    {
     "name": "stdout",
     "output_type": "stream",
     "text": [
      "Cow sound: Moo\n",
      "Sheep sound: Baa\n"
     ]
    }
   ],
   "source": [
    "'''16. Create a class Animal with an abstract method sound(). Create two derived classes Cow and Sheep that\n",
    "implement the sound() method.'''\n",
    "#Code\n",
    "from abc import ABC, abstractmethod\n",
    "\n",
    "# Abstract Base Class\n",
    "class Animal(ABC):\n",
    "    @abstractmethod\n",
    "    def sound(self):\n",
    "        pass\n",
    "\n",
    "# Derived Class Cow\n",
    "class Cow(Animal):\n",
    "    def sound(self):\n",
    "        return \"Moo\"\n",
    "\n",
    "# Derived Class Sheep\n",
    "class Sheep(Animal):\n",
    "    def sound(self):\n",
    "        return \"Baa\"\n",
    "\n",
    "# Create objects\n",
    "cow = Cow()\n",
    "sheep = Sheep()\n",
    "\n",
    "# Print sounds\n",
    "print(\"Cow sound:\", cow.sound())\n",
    "print(\"Sheep sound:\", sheep.sound())\n"
   ]
  },
  {
   "cell_type": "code",
   "execution_count": 27,
   "id": "a84bfd19-b04b-4cbd-8530-ac2a61a77b35",
   "metadata": {},
   "outputs": [
    {
     "name": "stdout",
     "output_type": "stream",
     "text": [
      "Title: To Kill a Mockingbird, Author: Harper Lee, Year: 1960\n"
     ]
    }
   ],
   "source": [
    "'''17. Create a class Book with attributes title, author, and year_published. Add a method get_book_info() that\n",
    "returns a formatted string with the book's details.'''\n",
    "#Code\n",
    "class Book:\n",
    "    def __init__(self, title, author, year_published):\n",
    "        self.title = title\n",
    "        self.author = author\n",
    "        self.year_published = year_published\n",
    "\n",
    "    def get_book_info(self):\n",
    "        return f\"Title: {self.title}, Author: {self.author}, Year: {self.year_published}\"\n",
    "\n",
    "# Create Book object\n",
    "book = Book(\"To Kill a Mockingbird\", \"Harper Lee\", 1960)\n",
    "\n",
    "# Get and print book info\n",
    "print(book.get_book_info())\n"
   ]
  },
  {
   "cell_type": "code",
   "execution_count": 28,
   "id": "88737ae6-df69-43e0-800d-f0aaa994f845",
   "metadata": {},
   "outputs": [
    {
     "name": "stdout",
     "output_type": "stream",
     "text": [
      "Address: 123 Luxury Lane, Mumbai\n",
      "Price: ₹50000000\n",
      "Number of Rooms: 10\n"
     ]
    }
   ],
   "source": [
    "'''18. Create a class House with attributes address and price. Create a derived class Mansion that adds an\n",
    "attribute number_of_rooms.'''\n",
    "#Code\n",
    "# Base Class\n",
    "class House:\n",
    "    def __init__(self, address, price):\n",
    "        self.address = address\n",
    "        self.price = price\n",
    "\n",
    "# Derived Class\n",
    "class Mansion(House):\n",
    "    def __init__(self, address, price, number_of_rooms):\n",
    "        super().__init__(address, price)\n",
    "        self.number_of_rooms = number_of_rooms\n",
    "\n",
    "    def display_info(self):\n",
    "        print(f\"Address: {self.address}\")\n",
    "        print(f\"Price: ₹{self.price}\")\n",
    "        print(f\"Number of Rooms: {self.number_of_rooms}\")\n",
    "\n",
    "# Create Mansion object\n",
    "m = Mansion(\"123 Luxury Lane, Mumbai\", 50000000, 10)\n",
    "\n",
    "# Display mansion info\n",
    "m.display_info()\n",
    "\n"
   ]
  },
  {
   "cell_type": "code",
   "execution_count": null,
   "id": "d0bbf78f-68c2-4c3e-9609-7794b90b69fc",
   "metadata": {},
   "outputs": [],
   "source": []
  }
 ],
 "metadata": {
  "kernelspec": {
   "display_name": "Python 3 (ipykernel)",
   "language": "python",
   "name": "python3"
  },
  "language_info": {
   "codemirror_mode": {
    "name": "ipython",
    "version": 3
   },
   "file_extension": ".py",
   "mimetype": "text/x-python",
   "name": "python",
   "nbconvert_exporter": "python",
   "pygments_lexer": "ipython3",
   "version": "3.11.7"
  }
 },
 "nbformat": 4,
 "nbformat_minor": 5
}
